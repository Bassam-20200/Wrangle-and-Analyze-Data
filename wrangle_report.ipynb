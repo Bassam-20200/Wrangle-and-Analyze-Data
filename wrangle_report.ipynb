{
 "cells": [
  {
   "cell_type": "markdown",
   "metadata": {},
   "source": [
    "# Data Wrangling Report By : Bassam Mohammed"
   ]
  },
  {
   "cell_type": "markdown",
   "metadata": {},
   "source": [
    "## Project objectives"
   ]
  },
  {
   "cell_type": "markdown",
   "metadata": {},
   "source": [
    "The project main objectives were:"
   ]
  },
  {
   "cell_type": "markdown",
   "metadata": {},
   "source": [
    "• Perform data wrangling (gathering, assessing and cleaning) on the provided sources of data.\n",
    "• Store, analyze, and visualize the wrangled data.\n",
    "• Reporting on"
   ]
  },
  {
   "cell_type": "markdown",
   "metadata": {},
   "source": [
    "1. data wrangling efforts.\n",
    "2. data analyses and visualizations."
   ]
  },
  {
   "cell_type": "markdown",
   "metadata": {},
   "source": [
    "# Step 1: Gathering Data"
   ]
  },
  {
   "cell_type": "markdown",
   "metadata": {},
   "source": [
    "In this phase, the three pieces of data were gathered and represented as pandas dataframes"
   ]
  },
  {
   "cell_type": "markdown",
   "metadata": {},
   "source": [
    "1. The WeRateDogs Twitter archive (file on hand, manual download of 'twitter-archiveenhanced.csv')\n",
    "2. The tweet image predictions ('image-predictions.tsv'). This file was be downloaded programmatically using the Requests library from a provided URL.\n",
    "3. Each tweet's entire set of JSON data (with at minimum tweet ID, retweet count, and favorite count) in a file called 'tweet_json.txt' were stored using Twitter API and Python's Tweepy library. Each tweet's JSON data was written to its own line."
   ]
  },
  {
   "cell_type": "markdown",
   "metadata": {},
   "source": [
    "# Step 2: Gathering Data"
   ]
  },
  {
   "cell_type": "markdown",
   "metadata": {},
   "source": [
    "Assessing is the second step in the data wrangling process:\n",
    "Programmatic assessment: using code to view specific portions and\n",
    "summaries of the data (pandas' head, value_counts(),sample()and\n",
    "info methods ."
   ]
  },
  {
   "cell_type": "markdown",
   "metadata": {},
   "source": [
    "1. Quality:\n",
    "- Null values recorded as None and NaN(missing values)\n",
    "- tweet_id type is int64 ,i will chanage tweet_id data type to string\n",
    "- convert timestamp to be datetime and rename the column into tweet_date\n",
    "- source mixed html tag\n",
    "- We have some columns that contain unnecessary data: in_reply_to_status_id,in_reply_to_user_id, retweeted_status_id, retweeted_status_user_id,retweeted_status_timestamp ,... delet unneed column\n",
    "- tweet_idf should be string type\n",
    "- The types of dogs in columns p1, p2, and p3 had some uppercase \\ lowercase letters.\n",
    "- Missing values in some cloumns\n",
    "- id column should named 'tweet_id' as the others data have ,and dtype should be\n",
    "string , sourse change data type to category\n",
    "- We have some columns that contain unnecessary data (created_at,full_text,Truncated,display_text_range,entities,extended_entities,in_reply_to_status_id,in_reply_to_status_id_str,in_reply_to_user_id,in_reply_to_user_id_str,In_reply_to_screen_name,user,geo,coordinates,favorited,retweeted,possibly_sensitive,possibly_sensitive_appealable,lang,retweeted_status,quoted_status_id,quoted_status_id_str,quoted_status,place,contributors,'is_quote_status\n",
    "- source mixed html tag,Rewrite the tweet source, from iphone,..etc\n",
    "- delete the duplicate rows because they represent duplicate tweets and we will take only the null (original non-duplicate tweets)\n",
    "\n",
    "\n",
    "\n",
    "\n",
    "\n",
    "\n",
    "\n",
    "1. Tidiness:\n",
    "- The 4 different columns doggo, floofer, pupper and puppo, combine in one columns represent stages_of_dogs\"\n",
    "- extract breed of dog from columns p, p_conf and p_dog\n",
    "- Merge twitter_archive_copy ,data_tweet_copy and image_predictions_copy to merge_df dataframe\n",
    "\n"
   ]
  },
  {
   "cell_type": "markdown",
   "metadata": {},
   "source": [
    "# Step 3: Gathering Data"
   ]
  },
  {
   "cell_type": "markdown",
   "metadata": {},
   "source": [
    "## What is Cleaning Data?"
   ]
  },
  {
   "cell_type": "markdown",
   "metadata": {},
   "source": [
    "Cleaning is the third step in the data wrangling process The programmatic data cleaning\n",
    "process:\n",
    "### Define: \n",
    "convert our assessments into defined cleaning tasks. These definitions also\n",
    "serve as an instruction list so others (or yourself in the future) can look at your work and\n",
    "reproduce it.\n",
    "### Code: \n",
    "convert those definitions to code and run that code.\n",
    "### Test: \n",
    "test your dataset, visually or with code, to make sure your cleaning operations\n",
    "Worked.\n",
    "\n",
    "\n",
    "It’s most important part of this project to clean the data and store it in new and proper\n",
    "form to make it useable , Here I programmatically clean the data to change some types,\n",
    "drop some cloumns that is not useful, correct some errors in data then merge data frame"
   ]
  },
  {
   "cell_type": "markdown",
   "metadata": {},
   "source": [
    "# Step 4: Store Data"
   ]
  },
  {
   "cell_type": "markdown",
   "metadata": {},
   "source": [
    "I stored all the cleaned into csv file : twitter_archive_master_.csv"
   ]
  },
  {
   "cell_type": "markdown",
   "metadata": {},
   "source": [
    "# Step 5 : Analyzing and Visualizing Data"
   ]
  },
  {
   "cell_type": "markdown",
   "metadata": {},
   "source": [
    "- What is the most used source?\n",
    "I use countplot to view the most source of the tweet\n",
    "- What is the most stage of doges?\n",
    "I use pie chart to view the most stage of doges\n",
    "- What is the 6 frequent bread?\n",
    "I use bar chart to view 3 frequent dog breed\n",
    "- compare the favorite counts & retweet counts\n",
    "I use scatter to compare the favorite & etweet counts\n",
    "- Number of Tweets per month?\n",
    "I use plot line to view number of tweets per month"
   ]
  },
  {
   "cell_type": "code",
   "execution_count": null,
   "metadata": {},
   "outputs": [],
   "source": []
  }
 ],
 "metadata": {
  "kernelspec": {
   "display_name": "Python 3",
   "language": "python",
   "name": "python3"
  },
  "language_info": {
   "codemirror_mode": {
    "name": "ipython",
    "version": 3
   },
   "file_extension": ".py",
   "mimetype": "text/x-python",
   "name": "python",
   "nbconvert_exporter": "python",
   "pygments_lexer": "ipython3",
   "version": "3.6.3"
  }
 },
 "nbformat": 4,
 "nbformat_minor": 2
}
